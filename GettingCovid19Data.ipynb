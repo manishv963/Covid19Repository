{
 "cells": [
  {
   "cell_type": "raw",
   "metadata": {},
   "source": [
    "import pandas as pd\n",
    "import numpy as np\n",
    "import seaborn as sns\n",
    "import requests, bs4\n",
    "import bs4\n",
    "import matplotlib.pyplot as plt\n",
    "import seaborn as sns\n",
    "import matplotlib.font_manager\n",
    "%matplotlib inline\n",
    "import requests,bs4\n",
    "import requests, bs4\n",
    "\n",
    "\n",
    "import warnings\n",
    "warnings.filterwarnings('ignore')"
   ]
  },
  {
   "cell_type": "code",
   "execution_count": 1,
   "metadata": {},
   "outputs": [],
   "source": [
    "import requests, bs4\n",
    "\n",
    "url=\"https://www.worldometers.info/coronavirus/\"\n",
    "req = requests.get(url)\n",
    "\n",
    "# create a bs4 object\n",
    "# To avoid warnings, provide \"html5lib\" explicitly\n",
    "soup = bs4.BeautifulSoup(req.text, \"html5lib\")\n"
   ]
  },
  {
   "cell_type": "code",
   "execution_count": 2,
   "metadata": {},
   "outputs": [],
   "source": [
    "liveCount = str(soup.select(\".maincounter-number\"))\n",
    "liveCount = liveCount.split('</div>')\n"
   ]
  },
  {
   "cell_type": "code",
   "execution_count": 3,
   "metadata": {},
   "outputs": [],
   "source": [
    "#print(liveCount[0].index('aaa'))\n",
    "totalCases = liveCount[0][59:liveCount[0].index('</span')]\n",
    "totalCases  = int(totalCases.replace(',',''))\n",
    "totalDeaths =str(liveCount[1].split('<span>')[1])[:liveCount[1].split('<span>')[1].index('</span>')]\n",
    "totalDeaths  = int(totalDeaths.replace(',',''))\n",
    "\n",
    "totalRecoveredCases = str(liveCount[2].split('<span>')[1])[:liveCount[1].split('<span>')[1].index('</span>')]\n",
    "totalRecoveredCases  = int(totalRecoveredCases.replace(',',''))\n",
    "\n",
    "\n",
    "activeCases = totalCases - totalRecoveredCases-totalDeaths\n"
   ]
  },
  {
   "cell_type": "code",
   "execution_count": 4,
   "metadata": {},
   "outputs": [],
   "source": [
    "mildCaseWeb  = str(soup.select(\".number-table\"))\n",
    "mildCaseWeb = mildCaseWeb.split('</span')\n",
    "mildCase =mildCaseWeb[0].split(\">\")\n",
    "mildCase = mildCase[1].replace(',','')\n",
    "mildCase = int(mildCase)"
   ]
  },
  {
   "cell_type": "code",
   "execution_count": 5,
   "metadata": {},
   "outputs": [],
   "source": [
    "seriousCase =mildCaseWeb[1].split(\">\")\n",
    "\n",
    "seriousCase = seriousCase[2]\n",
    "seriousCase = seriousCase.replace(',','')\n",
    "seriousCase = int(seriousCase)"
   ]
  },
  {
   "cell_type": "code",
   "execution_count": 6,
   "metadata": {},
   "outputs": [
    {
     "name": "stdout",
     "output_type": "stream",
     "text": [
      "51156\n",
      "1305951\n"
     ]
    }
   ],
   "source": [
    "print(seriousCase)\n",
    "print(mildCase)"
   ]
  },
  {
   "cell_type": "code",
   "execution_count": 7,
   "metadata": {},
   "outputs": [
    {
     "name": "stderr",
     "output_type": "stream",
     "text": [
      "C:\\Users\\user\\Anaconda3\\lib\\site-packages\\ipykernel_launcher.py:12: MatplotlibDeprecationWarning: Non-1D inputs to pie() are currently squeeze()d, but this behavior is deprecated since 3.1 and will be removed in 3.3; pass a 1D array instead.\n",
      "  if sys.path[0] == '':\n"
     ]
    },
    {
     "data": {
      "image/png": "[encoded data removed]",
      "text/plain": [
       "<Figure size 576x432 with 1 Axes>"
      ]
     },
     "metadata": {},
     "output_type": "display_data"
    }
   ],
   "source": [
    "values ={totalCases:totalCases,totalDeaths:totalDeaths,totalRecoveredCases:totalRecoveredCases}\n",
    "import pandas as pd\n",
    "\n",
    "overAllData = pd.DataFrame([values])\n",
    "overAllData.columns = ['Total_Cases','Total_Death','Recovered']\n",
    "overAllData = overAllData.transpose()\n",
    "import matplotlib.pyplot as plt\n",
    "fig = plt.figure(figsize=(8,6))\n",
    "\n",
    "activities = ['Total Cases', 'Death','Recoverd']\n",
    "colors = ['g', 'r','b']\n",
    "plt.pie(overAllData, labels=activities, colors=colors, startangle=90, autopct='%.1f%%')\n",
    "plt.show()"
   ]
  },
  {
   "cell_type": "code",
   "execution_count": 13,
   "metadata": {},
   "outputs": [],
   "source": [
    "country  = str(soup.select(\"#main_table_countries_today\"))"
   ]
  },
  {
   "cell_type": "code",
   "execution_count": 14,
   "metadata": {},
   "outputs": [],
   "source": [
    "country =country.split('</tr')\n"
   ]
  },
  {
   "cell_type": "code",
   "execution_count": 15,
   "metadata": {},
   "outputs": [
    {
     "name": "stdout",
     "output_type": "stream",
     "text": [
      "248\n"
     ]
    },
    {
     "ename": "IndexError",
     "evalue": "list index out of range",
     "output_type": "error",
     "traceback": [
      "\u001b[1;31m---------------------------------------------------------------------------\u001b[0m",
      "\u001b[1;31mIndexError\u001b[0m                                Traceback (most recent call last)",
      "\u001b[1;32m<ipython-input-15-0a34e227191c>\u001b[0m in \u001b[0;36m<module>\u001b[1;34m\u001b[0m\n\u001b[0;32m     20\u001b[0m     \u001b[1;31m#total cases\u001b[0m\u001b[1;33m\u001b[0m\u001b[1;33m\u001b[0m\u001b[1;33m\u001b[0m\u001b[0m\n\u001b[0;32m     21\u001b[0m \u001b[1;33m\u001b[0m\u001b[0m\n\u001b[1;32m---> 22\u001b[1;33m     \u001b[0mtotalCases\u001b[0m \u001b[1;33m=\u001b[0m \u001b[0mcountryData\u001b[0m\u001b[1;33m[\u001b[0m\u001b[1;36m1\u001b[0m\u001b[1;33m]\u001b[0m\u001b[1;33m[\u001b[0m\u001b[1;33m:\u001b[0m\u001b[0mcountryData\u001b[0m\u001b[1;33m[\u001b[0m\u001b[1;36m1\u001b[0m\u001b[1;33m]\u001b[0m\u001b[1;33m.\u001b[0m\u001b[0mindex\u001b[0m\u001b[1;33m(\u001b[0m\u001b[1;34m'</td>'\u001b[0m\u001b[1;33m)\u001b[0m\u001b[1;33m]\u001b[0m\u001b[1;33m\u001b[0m\u001b[1;33m\u001b[0m\u001b[0m\n\u001b[0m\u001b[0;32m     23\u001b[0m     \u001b[1;31m# end of total cases\u001b[0m\u001b[1;33m\u001b[0m\u001b[1;33m\u001b[0m\u001b[1;33m\u001b[0m\u001b[0m\n\u001b[0;32m     24\u001b[0m     \u001b[1;31m#countryDeaths\u001b[0m\u001b[1;33m\u001b[0m\u001b[1;33m\u001b[0m\u001b[1;33m\u001b[0m\u001b[0m\n",
      "\u001b[1;31mIndexError\u001b[0m: list index out of range"
     ]
    }
   ],
   "source": [
    "\n",
    "dataList =[('countryName','totalCases','deaths','recoveredCases','seriousCases','totalTest','casespermillion','deathspermillion')]\n",
    "for i in range(9,len(country)):\n",
    "    countryData  = country[i].split('td style=\"font-weight: bold; text-align:right\">')\n",
    "    \n",
    "     #country name\n",
    "    if(('</a></td>') in countryData[0]  in  countryData[0]):\n",
    "        countryName = countryData[0].split('</a></td>')\n",
    "        countryName1 = countryName[0].split('/\">')\n",
    "        actualName  = countryName[0].split('/\">')[1]\n",
    "        \n",
    "\n",
    "    elif(('font-style:italic; \"') in countryData[0]  in  countryData[0]):\n",
    "        \n",
    "        countryName = countryData[0].split('font-style:italic; \"')\n",
    "        countryName1 = countryName[1].split(\"', '>\")        \n",
    "        actualName =countryName1[0][1:countryName1[0].index('</span')]\n",
    "        #print(actualName)\n",
    "    ####end of country name\n",
    "  \n",
    "    #total cases\n",
    "    \n",
    "    totalCases = countryData[1][:countryData[1].index('</td>')]\n",
    "    # end of total cases\n",
    "    #countryDeaths\n",
    "    \n",
    "        \n",
    "        \n",
    "    if('text-align:right;\">' in  countryData[1]):\n",
    "        countryDeaths = countryData[1].split('text-align:right;\">')\n",
    "      \n",
    "    else:\n",
    "        countryDeaths = countryData[1].split('text-align:right\">')\n",
    "        #print(countryDeaths)\n",
    "\n",
    "        \n",
    "    #print(countryDeaths)\n",
    "    if(len(countryDeaths) ==  4):\n",
    "        #print(len(countryDeaths))\n",
    "        #print('4 ',countryDeaths[2].split('bold;')[0])\n",
    "        deaths =countryDeaths[2].split('bold;')[0]\n",
    "        deaths = deaths[:deaths.index('</td>')]\n",
    "    elif(len(countryDeaths) ==  3):\n",
    "        \n",
    "        deaths =countryDeaths[1].split('bold;')[0]\n",
    "        \n",
    "        if(len(deaths) == 30 ):\n",
    "            \n",
    "            \n",
    "            deaths = countryDeaths[2][:countryDeaths[2].index('</td>')]\n",
    "            \n",
    "            #print(countryDeaths[1].split('bold;'))\n",
    "        else:  \n",
    "            deaths = deaths[:deaths.index('</td>')]\n",
    "        #print(actualName,' ',deaths)\n",
    "\n",
    "    else:\n",
    "        deaths =countryDeaths[1]\n",
    "        deaths = deaths[:deaths.index('</td>\\n')]\n",
    "    # end of total death\n",
    "    \n",
    "    \n",
    "    ### recovered deaths\n",
    "    recoveredCases  = countryData[2][:countryData[2].index('</td')]\n",
    "    if('Uru' in actualName ):\n",
    "        print(recoveredCases)\n",
    "    ##### active cases will be totalCase -recoveredCases-countryDeaths\n",
    "    \n",
    "    ####serious cases\n",
    "    seriousCases  = countryData[3][:countryData[3].index('</td')]\n",
    "    \n",
    "    #####total test\n",
    "    totalTest  = countryData[6][:countryData[6].index('</td')]\n",
    "    #### cases per 1 million\n",
    "    \n",
    "    caseRate  = countryData[4][:countryData[4].index('</td')]\n",
    "    ####deathRatePerPopulation\n",
    "    deathRate  = countryData[5][:countryData[5].index('</td')]\n",
    "\n",
    "    dataList.append((actualName,totalCases,deaths,recoveredCases,seriousCases,totalTest,caseRate,deathRate))\n",
    "    \n",
    "    #print(len(dataList))\n",
    "    \n",
    "    "
   ]
  },
  {
   "cell_type": "markdown",
   "metadata": {},
   "source": [
    "# dataList[0]"
   ]
  },
  {
   "cell_type": "code",
   "execution_count": 16,
   "metadata": {},
   "outputs": [
    {
     "data": {
      "text/plain": [
       "('countryName',\n",
       " 'totalCases',\n",
       " 'deaths',\n",
       " 'recoveredCases',\n",
       " 'seriousCases',\n",
       " 'totalTest',\n",
       " 'casespermillion',\n",
       " 'deathspermillion')"
      ]
     },
     "execution_count": 16,
     "metadata": {},
     "output_type": "execute_result"
    }
   ],
   "source": [
    "dataList[0]"
   ]
  },
  {
   "cell_type": "code",
   "execution_count": 17,
   "metadata": {},
   "outputs": [
    {
     "data": {
      "text/plain": [
       "('Channel Islands', '436', '9 ', '48', '', '3,320', '2,508', '52')"
      ]
     },
     "execution_count": 17,
     "metadata": {},
     "output_type": "execute_result"
    }
   ],
   "source": [
    "dataList[94]"
   ]
  },
  {
   "cell_type": "code",
   "execution_count": 18,
   "metadata": {},
   "outputs": [
    {
     "data": {
      "text/plain": [
       "('Hungary', '1,512', '122 ', '122', '58', '35,825', '157', '13')"
      ]
     },
     "execution_count": 18,
     "metadata": {},
     "output_type": "execute_result"
    }
   ],
   "source": [
    "dataList[59]"
   ]
  },
  {
   "cell_type": "code",
   "execution_count": 19,
   "metadata": {},
   "outputs": [],
   "source": [
    "countryName =[]\n",
    "totalCases=[]\n",
    "deaths=[]\n",
    "recoveredCases = []\n",
    "seriousCases = [] \n",
    "totalTest = [] \n",
    "casespermillion = []\n",
    "deathspermillion = []\n",
    "count = 0\n",
    "for data in dataList:\n",
    "    if(count == 0):\n",
    "        count = 1\n",
    "        continue\n",
    "    countryName.append(data[0])\n",
    "    try:\n",
    "        m = float(data[1].replace(',',''))\n",
    "        totalCases.append(m)\n",
    "    except:\n",
    "        totalCases.append(0)\n",
    "    try:\n",
    "        m = float(data[2].replace(',',''))\n",
    "        deaths.append(m)\n",
    "    except:\n",
    "        deaths.append(0)\n",
    "    \n",
    "    try:\n",
    "        m = float(data[3].replace(',',''))\n",
    "        recoveredCases.append(m)\n",
    "    except:\n",
    "        recoveredCases.append(0)\n",
    "        \n",
    "    \n",
    "    try:\n",
    "        m= float(data[4].replace(',',''))\n",
    "        seriousCases.append(m)\n",
    "    except:\n",
    "        seriousCases.append(0)\n",
    "    try:\n",
    "        m= float(data[5].replace(',',''))\n",
    "        totalTest.append(m)\n",
    "    except:\n",
    "        totalTest.append(0)\n",
    "    \n",
    "    try:\n",
    "        m = float(data[6].replace(',',''))\n",
    "        casespermillion.append(m)\n",
    "    except:\n",
    "        casespermillion.append(0)\n",
    "    try:\n",
    "        m= float(data[7].replace(',',''))\n",
    "        deathspermillion.append(m)\n",
    "    except:\n",
    "        deathspermillion.append(0)\n",
    "    \n",
    "    \n",
    "    \n"
   ]
  },
  {
   "cell_type": "code",
   "execution_count": 20,
   "metadata": {},
   "outputs": [],
   "source": [
    "covid19Data = pd.DataFrame(countryName,columns=['Country/Region'])\n",
    "covid19Data['Total_Cases']  = pd.Series(totalCases)\n",
    "covid19Data['Deaths']  = pd.Series(deaths)\n",
    "covid19Data['Recovered_Cases']  = pd.Series(recoveredCases)\n",
    "covid19Data['Active_Cases']  = covid19Data['Total_Cases'] -covid19Data['Deaths'] -covid19Data['Recovered_Cases'] \n",
    "covid19Data['Serious_Cases']  = pd.Series(seriousCases)\n",
    "covid19Data['Total_Test']  = pd.Series(totalTest)\n",
    "covid19Data['Cases_per_million']  = pd.Series(casespermillion)\n",
    "covid19Data['Deaths_per_million']  = pd.Series(deathspermillion)"
   ]
  },
  {
   "cell_type": "code",
   "execution_count": 23,
   "metadata": {},
   "outputs": [
    {
     "data": {
      "text/html": [
       "<div>\n",
       "<style scoped>\n",
       "    .dataframe tbody tr th:only-of-type {\n",
       "        vertical-align: middle;\n",
       "    }\n",
       "\n",
       "    .dataframe tbody tr th {\n",
       "        vertical-align: top;\n",
       "    }\n",
       "\n",
       "    .dataframe thead th {\n",
       "        text-align: right;\n",
       "    }\n",
       "</style>\n",
       "<table border=\"1\" class=\"dataframe\">\n",
       "  <thead>\n",
       "    <tr style=\"text-align: right;\">\n",
       "      <th></th>\n",
       "      <th>Country/Region</th>\n",
       "      <th>Total_Cases</th>\n",
       "      <th>Deaths</th>\n",
       "      <th>Recovered_Cases</th>\n",
       "      <th>Active_Cases</th>\n",
       "      <th>Serious_Cases</th>\n",
       "      <th>Total_Test</th>\n",
       "      <th>Cases_per_million</th>\n",
       "      <th>Deaths_per_million</th>\n",
       "    </tr>\n",
       "  </thead>\n",
       "  <tbody>\n",
       "    <tr>\n",
       "      <th>0</th>\n",
       "      <td>USA</td>\n",
       "      <td>587173.0</td>\n",
       "      <td>23644.0</td>\n",
       "      <td>36948.0</td>\n",
       "      <td>526581.0</td>\n",
       "      <td>12772.0</td>\n",
       "      <td>2943955.0</td>\n",
       "      <td>1774.0</td>\n",
       "      <td>71.0</td>\n",
       "    </tr>\n",
       "    <tr>\n",
       "      <th>1</th>\n",
       "      <td>Spain</td>\n",
       "      <td>170099.0</td>\n",
       "      <td>17756.0</td>\n",
       "      <td>64727.0</td>\n",
       "      <td>87616.0</td>\n",
       "      <td>7371.0</td>\n",
       "      <td>600000.0</td>\n",
       "      <td>3638.0</td>\n",
       "      <td>380.0</td>\n",
       "    </tr>\n",
       "    <tr>\n",
       "      <th>2</th>\n",
       "      <td>Italy</td>\n",
       "      <td>159516.0</td>\n",
       "      <td>20465.0</td>\n",
       "      <td>35435.0</td>\n",
       "      <td>103616.0</td>\n",
       "      <td>3260.0</td>\n",
       "      <td>1046910.0</td>\n",
       "      <td>2638.0</td>\n",
       "      <td>338.0</td>\n",
       "    </tr>\n",
       "    <tr>\n",
       "      <th>3</th>\n",
       "      <td>France</td>\n",
       "      <td>136779.0</td>\n",
       "      <td>14967.0</td>\n",
       "      <td>27718.0</td>\n",
       "      <td>94094.0</td>\n",
       "      <td>6821.0</td>\n",
       "      <td>333807.0</td>\n",
       "      <td>2095.0</td>\n",
       "      <td>229.0</td>\n",
       "    </tr>\n",
       "    <tr>\n",
       "      <th>4</th>\n",
       "      <td>Germany</td>\n",
       "      <td>130072.0</td>\n",
       "      <td>3194.0</td>\n",
       "      <td>68200.0</td>\n",
       "      <td>58678.0</td>\n",
       "      <td>4288.0</td>\n",
       "      <td>1317887.0</td>\n",
       "      <td>1552.0</td>\n",
       "      <td>38.0</td>\n",
       "    </tr>\n",
       "    <tr>\n",
       "      <th>...</th>\n",
       "      <td>...</td>\n",
       "      <td>...</td>\n",
       "      <td>...</td>\n",
       "      <td>...</td>\n",
       "      <td>...</td>\n",
       "      <td>...</td>\n",
       "      <td>...</td>\n",
       "      <td>...</td>\n",
       "      <td>...</td>\n",
       "    </tr>\n",
       "    <tr>\n",
       "      <th>95</th>\n",
       "      <td>Honduras</td>\n",
       "      <td>407.0</td>\n",
       "      <td>26.0</td>\n",
       "      <td>7.0</td>\n",
       "      <td>374.0</td>\n",
       "      <td>10.0</td>\n",
       "      <td>1600.0</td>\n",
       "      <td>41.0</td>\n",
       "      <td>3.0</td>\n",
       "    </tr>\n",
       "    <tr>\n",
       "      <th>96</th>\n",
       "      <td>Taiwan</td>\n",
       "      <td>393.0</td>\n",
       "      <td>6.0</td>\n",
       "      <td>124.0</td>\n",
       "      <td>263.0</td>\n",
       "      <td>0.0</td>\n",
       "      <td>48549.0</td>\n",
       "      <td>17.0</td>\n",
       "      <td>0.3</td>\n",
       "    </tr>\n",
       "    <tr>\n",
       "      <th>97</th>\n",
       "      <td>Jordan</td>\n",
       "      <td>391.0</td>\n",
       "      <td>7.0</td>\n",
       "      <td>215.0</td>\n",
       "      <td>169.0</td>\n",
       "      <td>5.0</td>\n",
       "      <td>20500.0</td>\n",
       "      <td>38.0</td>\n",
       "      <td>0.7</td>\n",
       "    </tr>\n",
       "    <tr>\n",
       "      <th>98</th>\n",
       "      <td>Réunion</td>\n",
       "      <td>391.0</td>\n",
       "      <td>0.0</td>\n",
       "      <td>40.0</td>\n",
       "      <td>351.0</td>\n",
       "      <td>3.0</td>\n",
       "      <td>0.0</td>\n",
       "      <td>437.0</td>\n",
       "      <td>0.0</td>\n",
       "    </tr>\n",
       "    <tr>\n",
       "      <th>99</th>\n",
       "      <td>Malta</td>\n",
       "      <td>384.0</td>\n",
       "      <td>3.0</td>\n",
       "      <td>44.0</td>\n",
       "      <td>337.0</td>\n",
       "      <td>4.0</td>\n",
       "      <td>18065.0</td>\n",
       "      <td>870.0</td>\n",
       "      <td>7.0</td>\n",
       "    </tr>\n",
       "  </tbody>\n",
       "</table>\n",
       "<p>100 rows × 9 columns</p>\n",
       "</div>"
      ],
      "text/plain": [
       "   Country/Region  Total_Cases   Deaths  Recovered_Cases  Active_Cases  \\\n",
       "0             USA     587173.0  23644.0          36948.0      526581.0   \n",
       "1           Spain     170099.0  17756.0          64727.0       87616.0   \n",
       "2           Italy     159516.0  20465.0          35435.0      103616.0   \n",
       "3          France     136779.0  14967.0          27718.0       94094.0   \n",
       "4         Germany     130072.0   3194.0          68200.0       58678.0   \n",
       "..            ...          ...      ...              ...           ...   \n",
       "95       Honduras        407.0     26.0              7.0         374.0   \n",
       "96         Taiwan        393.0      6.0            124.0         263.0   \n",
       "97         Jordan        391.0      7.0            215.0         169.0   \n",
       "98        Réunion        391.0      0.0             40.0         351.0   \n",
       "99          Malta        384.0      3.0             44.0         337.0   \n",
       "\n",
       "    Serious_Cases  Total_Test  Cases_per_million  Deaths_per_million  \n",
       "0         12772.0   2943955.0             1774.0                71.0  \n",
       "1          7371.0    600000.0             3638.0               380.0  \n",
       "2          3260.0   1046910.0             2638.0               338.0  \n",
       "3          6821.0    333807.0             2095.0               229.0  \n",
       "4          4288.0   1317887.0             1552.0                38.0  \n",
       "..            ...         ...                ...                 ...  \n",
       "95           10.0      1600.0               41.0                 3.0  \n",
       "96            0.0     48549.0               17.0                 0.3  \n",
       "97            5.0     20500.0               38.0                 0.7  \n",
       "98            3.0         0.0              437.0                 0.0  \n",
       "99            4.0     18065.0              870.0                 7.0  \n",
       "\n",
       "[100 rows x 9 columns]"
      ]
     },
     "execution_count": 23,
     "metadata": {},
     "output_type": "execute_result"
    }
   ],
   "source": [
    "covid19Data.head(100)\n"
   ]
  },
  {
   "cell_type": "code",
   "execution_count": null,
   "metadata": {},
   "outputs": [],
   "source": []
  },
  {
   "cell_type": "code",
   "execution_count": null,
   "metadata": {},
   "outputs": [],
   "source": []
  },
  {
   "cell_type": "code",
   "execution_count": null,
   "metadata": {},
   "outputs": [],
   "source": []
  },
  {
   "cell_type": "code",
   "execution_count": null,
   "metadata": {},
   "outputs": [],
   "source": []
  },
  {
   "cell_type": "code",
   "execution_count": null,
   "metadata": {},
   "outputs": [],
   "source": []
  },
  {
   "cell_type": "code",
   "execution_count": null,
   "metadata": {},
   "outputs": [],
   "source": []
  },
  {
   "cell_type": "code",
   "execution_count": null,
   "metadata": {},
   "outputs": [],
   "source": []
  },
  {
   "cell_type": "code",
   "execution_count": null,
   "metadata": {},
   "outputs": [],
   "source": []
  },
  {
   "cell_type": "code",
   "execution_count": null,
   "metadata": {},
   "outputs": [],
   "source": []
  }
 ],
 "metadata": {
  "kernelspec": {
   "display_name": "Python 3",
   "language": "python",
   "name": "python3"
  },
  "language_info": {
   "codemirror_mode": {
    "name": "ipython",
    "version": 3
   },
   "file_extension": ".py",
   "mimetype": "text/x-python",
   "name": "python",
   "nbconvert_exporter": "python",
   "pygments_lexer": "ipython3",
   "version": "3.7.3"
  }
 },
 "nbformat": 4,
 "nbformat_minor": 4
}
